{
 "cells": [
  {
   "cell_type": "markdown",
   "metadata": {},
   "source": [
    "## Tomato Disease Identifier"
   ]
  },
  {
   "cell_type": "code",
   "execution_count": 1,
   "metadata": {},
   "outputs": [],
   "source": [
    "# Importing necessary modules\n",
    "import os\n",
    "import tensorflow as tf\n",
    "import tqdm\n",
    "\n",
    "# Make sure, you have installed tensorpack library using pip install tensorpack\n",
    "from tensorpack.predict import OfflinePredictor, PredictConfig\n",
    "from tensorpack.tfutils import SmartInit, get_tf_version_tuple\n",
    "\n",
    "# Importing local libraries\n",
    "from dataset import register_coco, register_balloon\n",
    "from config import config as cfg\n",
    "from config import finalize_configs\n",
    "from modeling.generalized_rcnn import ResNetC4Model, ResNetFPNModel\n",
    "from functions_predict import *"
   ]
  },
  {
   "cell_type": "code",
   "execution_count": 2,
   "metadata": {},
   "outputs": [],
   "source": [
    "# Download and load the weights file\n",
    "load_weights = \"model_weights/model-48000.data-00000-of-00001\""
   ]
  },
  {
   "cell_type": "code",
   "execution_count": 3,
   "metadata": {},
   "outputs": [],
   "source": [
    "# Add COCO-formatted datasets to the registry\n",
    "register_coco(cfg.DATA.BASEDIR)\n",
    "register_balloon(cfg.DATA.BASEDIR)"
   ]
  },
  {
   "cell_type": "code",
   "execution_count": 4,
   "metadata": {},
   "outputs": [],
   "source": [
    "# Loading the model\n",
    "MODEL = ResNetFPNModel() if cfg.MODE_FPN else ResNetC4Model()"
   ]
  },
  {
   "cell_type": "code",
   "execution_count": 5,
   "metadata": {},
   "outputs": [],
   "source": [
    "# Testing for availability of hardware\n",
    "if not tf.test.is_gpu_available():\n",
    "    from tensorflow.python.framework import test_util\n",
    "    assert get_tf_version_tuple() >= (1, 7) and test_util.IsMklEnabled(), \\\n",
    "        \"Inference requires either GPU support or MKL support!\""
   ]
  },
  {
   "cell_type": "code",
   "execution_count": 6,
   "metadata": {},
   "outputs": [
    {
     "name": "stdout",
     "output_type": "stream",
     "text": [
      "\u001b[32m[0312 23:16:09 @config.py:319]\u001b[0m Config: ------------------------------------------\n",
      "{'BACKBONE': {'FREEZE_AFFINE': False,\n",
      "              'FREEZE_AT': 1,\n",
      "              'NORM': 'FreezeBN',\n",
      "              'RESNET_NUM_BLOCKS': [3, 4, 23, 3],\n",
      "              'STRIDE_1X1': False,\n",
      "              'TF_PAD_MODE': False,\n",
      "              'WEIGHTS': 'ImageNet-R101-AlignPadding.npz'},\n",
      " 'CASCADE': {'BBOX_REG_WEIGHTS': [[10.0, 10.0, 5.0, 5.0], [20.0, 20.0, 10.0, 10.0],\n",
      "                                  [30.0, 30.0, 15.0, 15.0]],\n",
      "             'IOUS': [0.5, 0.6, 0.7]},\n",
      " 'DATA': {'ABSOLUTE_COORD': True,\n",
      "          'BASEDIR': 'coco_format_dataset',\n",
      "          'CLASS_NAMES': ['BG', 'Bacterial_Spot', 'Late_Blight', 'Septorial_Leaf_spot',\n",
      "                          'Mosaic_Virus', 'Yellow_Curved'],\n",
      "          'NUM_CATEGORY': 5,\n",
      "          'NUM_WORKERS': 4,\n",
      "          'TRAIN': ('coco_train2017',),\n",
      "          'VAL': ('coco_val2017',)},\n",
      " 'FPN': {'ANCHOR_STRIDES': (4, 8, 16, 32, 64),\n",
      "         'CASCADE': False,\n",
      "         'FRCNN_CONV_HEAD_DIM': 256,\n",
      "         'FRCNN_FC_HEAD_DIM': 1024,\n",
      "         'FRCNN_HEAD_FUNC': 'fastrcnn_2fc_head',\n",
      "         'MRCNN_HEAD_FUNC': 'maskrcnn_up4conv_head',\n",
      "         'NORM': 'None',\n",
      "         'NUM_CHANNEL': 256,\n",
      "         'PROPOSAL_MODE': 'Level',\n",
      "         'RESOLUTION_REQUIREMENT': 32},\n",
      " 'FRCNN': {'BATCH_PER_IM': 512,\n",
      "           'BBOX_REG_WEIGHTS': [10.0, 10.0, 5.0, 5.0],\n",
      "           'FG_RATIO': 0.25,\n",
      "           'FG_THRESH': 0.5},\n",
      " 'MODE_FPN': True,\n",
      " 'MODE_MASK': False,\n",
      " 'MRCNN': {'ACCURATE_PASTE': True, 'HEAD_DIM': 256},\n",
      " 'PREPROC': {'MAX_SIZE': 640.0,\n",
      "             'PIXEL_MEAN': [123.675, 116.28, 103.53],\n",
      "             'PIXEL_STD': [58.395, 57.12, 57.375],\n",
      "             'TEST_SHORT_EDGE_SIZE': 416,\n",
      "             'TRAIN_SHORT_EDGE_SIZE': [416, 416]},\n",
      " 'RPN': {'ANCHOR_RATIOS': (0.5, 1.0, 2.0),\n",
      "         'ANCHOR_SIZES': (32, 64, 128, 256, 512),\n",
      "         'ANCHOR_STRIDE': 16,\n",
      "         'BATCH_PER_IM': 256,\n",
      "         'CROWD_OVERLAP_THRESH': 9.99,\n",
      "         'FG_RATIO': 0.5,\n",
      "         'HEAD_DIM': 1024,\n",
      "         'MIN_SIZE': 0,\n",
      "         'NEGATIVE_ANCHOR_THRESH': 0.3,\n",
      "         'NUM_ANCHOR': 15,\n",
      "         'POSITIVE_ANCHOR_THRESH': 0.7,\n",
      "         'PROPOSAL_NMS_THRESH': 0.7,\n",
      "         'TEST_PER_LEVEL_NMS_TOPK': 1000,\n",
      "         'TEST_POST_NMS_TOPK': 1000,\n",
      "         'TEST_PRE_NMS_TOPK': 6000,\n",
      "         'TRAIN_PER_LEVEL_NMS_TOPK': 2000,\n",
      "         'TRAIN_POST_NMS_TOPK': 2000,\n",
      "         'TRAIN_PRE_NMS_TOPK': 12000},\n",
      " 'TEST': {'FRCNN_NMS_THRESH': 0.5,\n",
      "          'RESULTS_PER_IM': 100,\n",
      "          'RESULT_SCORE_THRESH': 0.05,\n",
      "          'RESULT_SCORE_THRESH_VIS': 0.5},\n",
      " 'TRAIN': {'BASE_LR': 0.01,\n",
      "           'CHECKPOINT_PERIOD': 1,\n",
      "           'EVAL_PERIOD': 5,\n",
      "           'LR_SCHEDULE': '1x',\n",
      "           'NUM_GPUS': 1,\n",
      "           'STARTING_EPOCH': 1,\n",
      "           'STEPS_PER_EPOCH': 500,\n",
      "           'WARMUP': 1000,\n",
      "           'WARMUP_INIT_LR': 0.0033000000000000004,\n",
      "           'WEIGHT_DECAY': 0.0001},\n",
      " 'TRAINER': 'replicated'}\n"
     ]
    }
   ],
   "source": [
    "finalize_configs(is_training=False)"
   ]
  },
  {
   "cell_type": "code",
   "execution_count": 7,
   "metadata": {},
   "outputs": [],
   "source": [
    "# Changing certain config values for testing\n",
    "cfg.TEST.RESULT_SCORE_THRESH = cfg.TEST.RESULT_SCORE_THRESH_VIS"
   ]
  },
  {
   "cell_type": "code",
   "execution_count": 8,
   "metadata": {},
   "outputs": [
    {
     "name": "stdout",
     "output_type": "stream",
     "text": [
      "\u001b[32m[0312 23:16:11 @varmanip.py:211]\u001b[0m Checkpoint path model_weights/model-48000.data-00000-of-00001 is auto-corrected to model_weights/model-48000.\n",
      "\u001b[32m[0312 23:16:11 @sesscreate.py:38]\u001b[0m \u001b[5m\u001b[31mWRN\u001b[0m User-provided custom session config may not work due to TF bugs. See https://github.com/tensorpack/tensorpack/issues/497 for workarounds.\n"
     ]
    }
   ],
   "source": [
    "# Create prediction config\n",
    "predcfg = PredictConfig(\n",
    "    model=MODEL,\n",
    "    session_init=SmartInit(load_weights),\n",
    "    input_names=MODEL.get_inference_tensor_names()[0],\n",
    "    output_names=MODEL.get_inference_tensor_names()[1])"
   ]
  },
  {
   "cell_type": "code",
   "execution_count": 9,
   "metadata": {
    "scrolled": false
   },
   "outputs": [
    {
     "name": "stdout",
     "output_type": "stream",
     "text": [
      "WARNING:tensorflow:From /media/aman/DRIVE2/Datsets/github/to_upload/Tomato Disease Identifier [Research & Development]/modeling/backbone.py:197: The name tf.ceil is deprecated. Please use tf.math.ceil instead.\n",
      "\n",
      "\u001b[32m[0312 23:16:13 @registry.py:90]\u001b[0m 'conv0': [1, 3, ?, ?] --> [1, 64, ?, ?]\n",
      "\u001b[32m[0312 23:16:13 @registry.py:90]\u001b[0m 'pool0': [1, 64, ?, ?] --> [1, 64, ?, ?]\n",
      "WARNING:tensorflow:From /media/aman/DRIVE2/Datsets/github/to_upload/Tomato Disease Identifier [Research & Development]/modeling/backbone.py:161: The name tf.variable_scope is deprecated. Please use tf.compat.v1.variable_scope instead.\n",
      "\n",
      "\u001b[32m[0312 23:16:13 @registry.py:90]\u001b[0m 'group0/block0/conv1': [1, 64, ?, ?] --> [1, 64, ?, ?]\n",
      "\u001b[32m[0312 23:16:13 @registry.py:90]\u001b[0m 'group0/block0/conv2': [1, 64, ?, ?] --> [1, 64, ?, ?]\n",
      "\u001b[32m[0312 23:16:13 @registry.py:90]\u001b[0m 'group0/block0/conv3': [1, 64, ?, ?] --> [1, 256, ?, ?]\n",
      "\u001b[32m[0312 23:16:13 @registry.py:90]\u001b[0m 'group0/block0/convshortcut': [1, 64, ?, ?] --> [1, 256, ?, ?]\n",
      "\u001b[32m[0312 23:16:13 @registry.py:90]\u001b[0m 'group0/block1/conv1': [1, 256, ?, ?] --> [1, 64, ?, ?]\n",
      "\u001b[32m[0312 23:16:13 @registry.py:90]\u001b[0m 'group0/block1/conv2': [1, 64, ?, ?] --> [1, 64, ?, ?]\n",
      "\u001b[32m[0312 23:16:13 @registry.py:90]\u001b[0m 'group0/block1/conv3': [1, 64, ?, ?] --> [1, 256, ?, ?]\n",
      "\u001b[32m[0312 23:16:13 @registry.py:90]\u001b[0m 'group0/block2/conv1': [1, 256, ?, ?] --> [1, 64, ?, ?]\n",
      "\u001b[32m[0312 23:16:13 @registry.py:90]\u001b[0m 'group0/block2/conv2': [1, 64, ?, ?] --> [1, 64, ?, ?]\n",
      "\u001b[32m[0312 23:16:13 @registry.py:90]\u001b[0m 'group0/block2/conv3': [1, 64, ?, ?] --> [1, 256, ?, ?]\n",
      "\u001b[32m[0312 23:16:14 @registry.py:90]\u001b[0m 'group1/block0/conv1': [1, 256, ?, ?] --> [1, 128, ?, ?]\n",
      "\u001b[32m[0312 23:16:14 @registry.py:90]\u001b[0m 'group1/block0/conv2': [1, 128, ?, ?] --> [1, 128, ?, ?]\n",
      "\u001b[32m[0312 23:16:14 @registry.py:90]\u001b[0m 'group1/block0/conv3': [1, 128, ?, ?] --> [1, 512, ?, ?]\n",
      "\u001b[32m[0312 23:16:14 @registry.py:90]\u001b[0m 'group1/block0/convshortcut': [1, 256, ?, ?] --> [1, 512, ?, ?]\n",
      "\u001b[32m[0312 23:16:14 @registry.py:90]\u001b[0m 'group1/block1/conv1': [1, 512, ?, ?] --> [1, 128, ?, ?]\n",
      "\u001b[32m[0312 23:16:14 @registry.py:90]\u001b[0m 'group1/block1/conv2': [1, 128, ?, ?] --> [1, 128, ?, ?]\n",
      "\u001b[32m[0312 23:16:14 @registry.py:90]\u001b[0m 'group1/block1/conv3': [1, 128, ?, ?] --> [1, 512, ?, ?]\n",
      "\u001b[32m[0312 23:16:14 @registry.py:90]\u001b[0m 'group1/block2/conv1': [1, 512, ?, ?] --> [1, 128, ?, ?]\n",
      "\u001b[32m[0312 23:16:14 @registry.py:90]\u001b[0m 'group1/block2/conv2': [1, 128, ?, ?] --> [1, 128, ?, ?]\n",
      "\u001b[32m[0312 23:16:14 @registry.py:90]\u001b[0m 'group1/block2/conv3': [1, 128, ?, ?] --> [1, 512, ?, ?]\n",
      "\u001b[32m[0312 23:16:14 @registry.py:90]\u001b[0m 'group1/block3/conv1': [1, 512, ?, ?] --> [1, 128, ?, ?]\n",
      "\u001b[32m[0312 23:16:14 @registry.py:90]\u001b[0m 'group1/block3/conv2': [1, 128, ?, ?] --> [1, 128, ?, ?]\n",
      "\u001b[32m[0312 23:16:14 @registry.py:90]\u001b[0m 'group1/block3/conv3': [1, 128, ?, ?] --> [1, 512, ?, ?]\n",
      "\u001b[32m[0312 23:16:14 @registry.py:90]\u001b[0m 'group2/block0/conv1': [1, 512, ?, ?] --> [1, 256, ?, ?]\n",
      "\u001b[32m[0312 23:16:14 @registry.py:90]\u001b[0m 'group2/block0/conv2': [1, 256, ?, ?] --> [1, 256, ?, ?]\n",
      "\u001b[32m[0312 23:16:14 @registry.py:90]\u001b[0m 'group2/block0/conv3': [1, 256, ?, ?] --> [1, 1024, ?, ?]\n",
      "\u001b[32m[0312 23:16:14 @registry.py:90]\u001b[0m 'group2/block0/convshortcut': [1, 512, ?, ?] --> [1, 1024, ?, ?]\n",
      "\u001b[32m[0312 23:16:14 @registry.py:90]\u001b[0m 'group2/block1/conv1': [1, 1024, ?, ?] --> [1, 256, ?, ?]\n",
      "\u001b[32m[0312 23:16:14 @registry.py:90]\u001b[0m 'group2/block1/conv2': [1, 256, ?, ?] --> [1, 256, ?, ?]\n",
      "\u001b[32m[0312 23:16:14 @registry.py:90]\u001b[0m 'group2/block1/conv3': [1, 256, ?, ?] --> [1, 1024, ?, ?]\n",
      "\u001b[32m[0312 23:16:14 @registry.py:90]\u001b[0m 'group2/block2/conv1': [1, 1024, ?, ?] --> [1, 256, ?, ?]\n",
      "\u001b[32m[0312 23:16:14 @registry.py:90]\u001b[0m 'group2/block2/conv2': [1, 256, ?, ?] --> [1, 256, ?, ?]\n",
      "\u001b[32m[0312 23:16:14 @registry.py:90]\u001b[0m 'group2/block2/conv3': [1, 256, ?, ?] --> [1, 1024, ?, ?]\n",
      "\u001b[32m[0312 23:16:14 @registry.py:90]\u001b[0m 'group2/block3/conv1': [1, 1024, ?, ?] --> [1, 256, ?, ?]\n",
      "\u001b[32m[0312 23:16:14 @registry.py:90]\u001b[0m 'group2/block3/conv2': [1, 256, ?, ?] --> [1, 256, ?, ?]\n",
      "\u001b[32m[0312 23:16:14 @registry.py:90]\u001b[0m 'group2/block3/conv3': [1, 256, ?, ?] --> [1, 1024, ?, ?]\n",
      "\u001b[32m[0312 23:16:14 @registry.py:90]\u001b[0m 'group2/block4/conv1': [1, 1024, ?, ?] --> [1, 256, ?, ?]\n",
      "\u001b[32m[0312 23:16:14 @registry.py:90]\u001b[0m 'group2/block4/conv2': [1, 256, ?, ?] --> [1, 256, ?, ?]\n",
      "\u001b[32m[0312 23:16:14 @registry.py:90]\u001b[0m 'group2/block4/conv3': [1, 256, ?, ?] --> [1, 1024, ?, ?]\n",
      "\u001b[32m[0312 23:16:14 @registry.py:90]\u001b[0m 'group2/block5/conv1': [1, 1024, ?, ?] --> [1, 256, ?, ?]\n",
      "\u001b[32m[0312 23:16:14 @registry.py:90]\u001b[0m 'group2/block5/conv2': [1, 256, ?, ?] --> [1, 256, ?, ?]\n",
      "\u001b[32m[0312 23:16:14 @registry.py:90]\u001b[0m 'group2/block5/conv3': [1, 256, ?, ?] --> [1, 1024, ?, ?]\n",
      "\u001b[32m[0312 23:16:14 @registry.py:90]\u001b[0m 'group2/block6/conv1': [1, 1024, ?, ?] --> [1, 256, ?, ?]\n",
      "\u001b[32m[0312 23:16:14 @registry.py:90]\u001b[0m 'group2/block6/conv2': [1, 256, ?, ?] --> [1, 256, ?, ?]\n",
      "\u001b[32m[0312 23:16:14 @registry.py:90]\u001b[0m 'group2/block6/conv3': [1, 256, ?, ?] --> [1, 1024, ?, ?]\n",
      "\u001b[32m[0312 23:16:14 @registry.py:90]\u001b[0m 'group2/block7/conv1': [1, 1024, ?, ?] --> [1, 256, ?, ?]\n",
      "\u001b[32m[0312 23:16:14 @registry.py:90]\u001b[0m 'group2/block7/conv2': [1, 256, ?, ?] --> [1, 256, ?, ?]\n",
      "\u001b[32m[0312 23:16:15 @registry.py:90]\u001b[0m 'group2/block7/conv3': [1, 256, ?, ?] --> [1, 1024, ?, ?]\n",
      "\u001b[32m[0312 23:16:15 @registry.py:90]\u001b[0m 'group2/block8/conv1': [1, 1024, ?, ?] --> [1, 256, ?, ?]\n",
      "\u001b[32m[0312 23:16:15 @registry.py:90]\u001b[0m 'group2/block8/conv2': [1, 256, ?, ?] --> [1, 256, ?, ?]\n",
      "\u001b[32m[0312 23:16:15 @registry.py:90]\u001b[0m 'group2/block8/conv3': [1, 256, ?, ?] --> [1, 1024, ?, ?]\n",
      "\u001b[32m[0312 23:16:15 @registry.py:90]\u001b[0m 'group2/block9/conv1': [1, 1024, ?, ?] --> [1, 256, ?, ?]\n",
      "\u001b[32m[0312 23:16:15 @registry.py:90]\u001b[0m 'group2/block9/conv2': [1, 256, ?, ?] --> [1, 256, ?, ?]\n",
      "\u001b[32m[0312 23:16:15 @registry.py:90]\u001b[0m 'group2/block9/conv3': [1, 256, ?, ?] --> [1, 1024, ?, ?]\n",
      "\u001b[32m[0312 23:16:15 @registry.py:90]\u001b[0m 'group2/block10/conv1': [1, 1024, ?, ?] --> [1, 256, ?, ?]\n",
      "\u001b[32m[0312 23:16:15 @registry.py:90]\u001b[0m 'group2/block10/conv2': [1, 256, ?, ?] --> [1, 256, ?, ?]\n",
      "\u001b[32m[0312 23:16:15 @registry.py:90]\u001b[0m 'group2/block10/conv3': [1, 256, ?, ?] --> [1, 1024, ?, ?]\n",
      "\u001b[32m[0312 23:16:15 @registry.py:90]\u001b[0m 'group2/block11/conv1': [1, 1024, ?, ?] --> [1, 256, ?, ?]\n",
      "\u001b[32m[0312 23:16:15 @registry.py:90]\u001b[0m 'group2/block11/conv2': [1, 256, ?, ?] --> [1, 256, ?, ?]\n",
      "\u001b[32m[0312 23:16:15 @registry.py:90]\u001b[0m 'group2/block11/conv3': [1, 256, ?, ?] --> [1, 1024, ?, ?]\n",
      "\u001b[32m[0312 23:16:15 @registry.py:90]\u001b[0m 'group2/block12/conv1': [1, 1024, ?, ?] --> [1, 256, ?, ?]\n",
      "\u001b[32m[0312 23:16:15 @registry.py:90]\u001b[0m 'group2/block12/conv2': [1, 256, ?, ?] --> [1, 256, ?, ?]\n",
      "\u001b[32m[0312 23:16:15 @registry.py:90]\u001b[0m 'group2/block12/conv3': [1, 256, ?, ?] --> [1, 1024, ?, ?]\n",
      "\u001b[32m[0312 23:16:15 @registry.py:90]\u001b[0m 'group2/block13/conv1': [1, 1024, ?, ?] --> [1, 256, ?, ?]\n",
      "\u001b[32m[0312 23:16:15 @registry.py:90]\u001b[0m 'group2/block13/conv2': [1, 256, ?, ?] --> [1, 256, ?, ?]\n",
      "\u001b[32m[0312 23:16:15 @registry.py:90]\u001b[0m 'group2/block13/conv3': [1, 256, ?, ?] --> [1, 1024, ?, ?]\n",
      "\u001b[32m[0312 23:16:15 @registry.py:90]\u001b[0m 'group2/block14/conv1': [1, 1024, ?, ?] --> [1, 256, ?, ?]\n",
      "\u001b[32m[0312 23:16:15 @registry.py:90]\u001b[0m 'group2/block14/conv2': [1, 256, ?, ?] --> [1, 256, ?, ?]\n",
      "\u001b[32m[0312 23:16:15 @registry.py:90]\u001b[0m 'group2/block14/conv3': [1, 256, ?, ?] --> [1, 1024, ?, ?]\n",
      "\u001b[32m[0312 23:16:15 @registry.py:90]\u001b[0m 'group2/block15/conv1': [1, 1024, ?, ?] --> [1, 256, ?, ?]\n",
      "\u001b[32m[0312 23:16:15 @registry.py:90]\u001b[0m 'group2/block15/conv2': [1, 256, ?, ?] --> [1, 256, ?, ?]\n",
      "\u001b[32m[0312 23:16:15 @registry.py:90]\u001b[0m 'group2/block15/conv3': [1, 256, ?, ?] --> [1, 1024, ?, ?]\n",
      "\u001b[32m[0312 23:16:15 @registry.py:90]\u001b[0m 'group2/block16/conv1': [1, 1024, ?, ?] --> [1, 256, ?, ?]\n",
      "\u001b[32m[0312 23:16:15 @registry.py:90]\u001b[0m 'group2/block16/conv2': [1, 256, ?, ?] --> [1, 256, ?, ?]\n",
      "\u001b[32m[0312 23:16:15 @registry.py:90]\u001b[0m 'group2/block16/conv3': [1, 256, ?, ?] --> [1, 1024, ?, ?]\n",
      "\u001b[32m[0312 23:16:15 @registry.py:90]\u001b[0m 'group2/block17/conv1': [1, 1024, ?, ?] --> [1, 256, ?, ?]\n",
      "\u001b[32m[0312 23:16:15 @registry.py:90]\u001b[0m 'group2/block17/conv2': [1, 256, ?, ?] --> [1, 256, ?, ?]\n"
     ]
    },
    {
     "name": "stdout",
     "output_type": "stream",
     "text": [
      "\u001b[32m[0312 23:16:16 @registry.py:90]\u001b[0m 'group2/block17/conv3': [1, 256, ?, ?] --> [1, 1024, ?, ?]\n",
      "\u001b[32m[0312 23:16:16 @registry.py:90]\u001b[0m 'group2/block18/conv1': [1, 1024, ?, ?] --> [1, 256, ?, ?]\n",
      "\u001b[32m[0312 23:16:16 @registry.py:90]\u001b[0m 'group2/block18/conv2': [1, 256, ?, ?] --> [1, 256, ?, ?]\n",
      "\u001b[32m[0312 23:16:16 @registry.py:90]\u001b[0m 'group2/block18/conv3': [1, 256, ?, ?] --> [1, 1024, ?, ?]\n",
      "\u001b[32m[0312 23:16:16 @registry.py:90]\u001b[0m 'group2/block19/conv1': [1, 1024, ?, ?] --> [1, 256, ?, ?]\n",
      "\u001b[32m[0312 23:16:16 @registry.py:90]\u001b[0m 'group2/block19/conv2': [1, 256, ?, ?] --> [1, 256, ?, ?]\n",
      "\u001b[32m[0312 23:16:16 @registry.py:90]\u001b[0m 'group2/block19/conv3': [1, 256, ?, ?] --> [1, 1024, ?, ?]\n",
      "\u001b[32m[0312 23:16:16 @registry.py:90]\u001b[0m 'group2/block20/conv1': [1, 1024, ?, ?] --> [1, 256, ?, ?]\n",
      "\u001b[32m[0312 23:16:16 @registry.py:90]\u001b[0m 'group2/block20/conv2': [1, 256, ?, ?] --> [1, 256, ?, ?]\n",
      "\u001b[32m[0312 23:16:16 @registry.py:90]\u001b[0m 'group2/block20/conv3': [1, 256, ?, ?] --> [1, 1024, ?, ?]\n",
      "\u001b[32m[0312 23:16:16 @registry.py:90]\u001b[0m 'group2/block21/conv1': [1, 1024, ?, ?] --> [1, 256, ?, ?]\n",
      "\u001b[32m[0312 23:16:16 @registry.py:90]\u001b[0m 'group2/block21/conv2': [1, 256, ?, ?] --> [1, 256, ?, ?]\n",
      "\u001b[32m[0312 23:16:16 @registry.py:90]\u001b[0m 'group2/block21/conv3': [1, 256, ?, ?] --> [1, 1024, ?, ?]\n",
      "\u001b[32m[0312 23:16:16 @registry.py:90]\u001b[0m 'group2/block22/conv1': [1, 1024, ?, ?] --> [1, 256, ?, ?]\n",
      "\u001b[32m[0312 23:16:16 @registry.py:90]\u001b[0m 'group2/block22/conv2': [1, 256, ?, ?] --> [1, 256, ?, ?]\n",
      "\u001b[32m[0312 23:16:16 @registry.py:90]\u001b[0m 'group2/block22/conv3': [1, 256, ?, ?] --> [1, 1024, ?, ?]\n",
      "\u001b[32m[0312 23:16:16 @registry.py:90]\u001b[0m 'group3/block0/conv1': [1, 1024, ?, ?] --> [1, 512, ?, ?]\n",
      "\u001b[32m[0312 23:16:16 @registry.py:90]\u001b[0m 'group3/block0/conv2': [1, 512, ?, ?] --> [1, 512, ?, ?]\n",
      "\u001b[32m[0312 23:16:16 @registry.py:90]\u001b[0m 'group3/block0/conv3': [1, 512, ?, ?] --> [1, 2048, ?, ?]\n",
      "\u001b[32m[0312 23:16:16 @registry.py:90]\u001b[0m 'group3/block0/convshortcut': [1, 1024, ?, ?] --> [1, 2048, ?, ?]\n",
      "\u001b[32m[0312 23:16:16 @registry.py:90]\u001b[0m 'group3/block1/conv1': [1, 2048, ?, ?] --> [1, 512, ?, ?]\n",
      "\u001b[32m[0312 23:16:16 @registry.py:90]\u001b[0m 'group3/block1/conv2': [1, 512, ?, ?] --> [1, 512, ?, ?]\n",
      "\u001b[32m[0312 23:16:16 @registry.py:90]\u001b[0m 'group3/block1/conv3': [1, 512, ?, ?] --> [1, 2048, ?, ?]\n",
      "\u001b[32m[0312 23:16:16 @registry.py:90]\u001b[0m 'group3/block2/conv1': [1, 2048, ?, ?] --> [1, 512, ?, ?]\n",
      "\u001b[32m[0312 23:16:16 @registry.py:90]\u001b[0m 'group3/block2/conv2': [1, 512, ?, ?] --> [1, 512, ?, ?]\n",
      "\u001b[32m[0312 23:16:16 @registry.py:90]\u001b[0m 'group3/block2/conv3': [1, 512, ?, ?] --> [1, 2048, ?, ?]\n",
      "\u001b[32m[0312 23:16:16 @registry.py:80]\u001b[0m 'fpn' input: [1, 256, ?, ?], [1, 512, ?, ?], [1, 1024, ?, ?], [1, 2048, ?, ?]\n",
      "\u001b[32m[0312 23:16:16 @registry.py:90]\u001b[0m   'fpn/lateral_1x1_c2': [1, 256, ?, ?] --> [1, 256, ?, ?]\n",
      "\u001b[32m[0312 23:16:16 @registry.py:90]\u001b[0m   'fpn/lateral_1x1_c3': [1, 512, ?, ?] --> [1, 256, ?, ?]\n",
      "\u001b[32m[0312 23:16:16 @registry.py:90]\u001b[0m   'fpn/lateral_1x1_c4': [1, 1024, ?, ?] --> [1, 256, ?, ?]\n",
      "\u001b[32m[0312 23:16:16 @registry.py:90]\u001b[0m   'fpn/lateral_1x1_c5': [1, 2048, ?, ?] --> [1, 256, ?, ?]\n",
      "\u001b[32m[0312 23:16:16 @registry.py:90]\u001b[0m   'fpn/upsample_lat5': [1, 256, ?, ?] --> [1, 256, ?, ?]\n",
      "\u001b[32m[0312 23:16:16 @registry.py:90]\u001b[0m   'fpn/upsample_lat4': [1, 256, ?, ?] --> [1, 256, ?, ?]\n",
      "\u001b[32m[0312 23:16:16 @registry.py:90]\u001b[0m   'fpn/upsample_lat3': [1, 256, ?, ?] --> [1, 256, ?, ?]\n",
      "\u001b[32m[0312 23:16:16 @registry.py:90]\u001b[0m   'fpn/posthoc_3x3_p2': [1, 256, ?, ?] --> [1, 256, ?, ?]\n",
      "\u001b[32m[0312 23:16:16 @registry.py:90]\u001b[0m   'fpn/posthoc_3x3_p3': [1, 256, ?, ?] --> [1, 256, ?, ?]\n",
      "\u001b[32m[0312 23:16:16 @registry.py:90]\u001b[0m   'fpn/posthoc_3x3_p4': [1, 256, ?, ?] --> [1, 256, ?, ?]\n",
      "\u001b[32m[0312 23:16:16 @registry.py:90]\u001b[0m   'fpn/posthoc_3x3_p5': [1, 256, ?, ?] --> [1, 256, ?, ?]\n",
      "\u001b[32m[0312 23:16:16 @registry.py:90]\u001b[0m   'fpn/maxpool_p6': [1, 256, ?, ?] --> [1, 256, ?, ?]\n",
      "\u001b[32m[0312 23:16:16 @registry.py:93]\u001b[0m 'fpn' output: [1, 256, ?, ?], [1, 256, ?, ?], [1, 256, ?, ?], [1, 256, ?, ?], [1, 256, ?, ?]\n",
      "\u001b[32m[0312 23:16:17 @registry.py:80]\u001b[0m 'rpn' input: [1, 256, ?, ?]\n",
      "\u001b[32m[0312 23:16:17 @registry.py:90]\u001b[0m   'rpn/conv0': [1, 256, ?, ?] --> [1, 256, ?, ?]\n",
      "\u001b[32m[0312 23:16:17 @registry.py:90]\u001b[0m   'rpn/class': [1, 256, ?, ?] --> [1, 3, ?, ?]\n",
      "\u001b[32m[0312 23:16:17 @registry.py:90]\u001b[0m   'rpn/box': [1, 256, ?, ?] --> [1, 12, ?, ?]\n",
      "\u001b[32m[0312 23:16:17 @registry.py:93]\u001b[0m 'rpn' output: [?, ?, 3], [?, ?, 3, 4]\n",
      "WARNING:tensorflow:From /media/aman/DRIVE2/Datsets/github/to_upload/Tomato Disease Identifier [Research & Development]/modeling/model_fpn.py:87: The name tf.log is deprecated. Please use tf.math.log instead.\n",
      "\n",
      "WARNING:tensorflow:From /media/aman/DRIVE2/Datsets/github/to_upload/Tomato Disease Identifier [Research & Development]/modeling/model_fpn.py:130: The name tf.invert_permutation is deprecated. Please use tf.math.invert_permutation instead.\n",
      "\n",
      "\u001b[32m[0312 23:16:17 @registry.py:80]\u001b[0m 'fastrcnn' input: [?, 256, 7, 7]\n",
      "\u001b[32m[0312 23:16:17 @registry.py:90]\u001b[0m   'fastrcnn/fc6': [?, 256, 7, 7] --> [?, 1024]\n",
      "\u001b[32m[0312 23:16:17 @registry.py:90]\u001b[0m   'fastrcnn/fc7': [?, 1024] --> [?, 1024]\n",
      "\u001b[32m[0312 23:16:17 @registry.py:93]\u001b[0m 'fastrcnn' output: [?, 1024]\n",
      "\u001b[32m[0312 23:16:17 @registry.py:80]\u001b[0m 'fastrcnn/outputs' input: [?, 1024]\n",
      "\u001b[32m[0312 23:16:17 @registry.py:90]\u001b[0m   'fastrcnn/outputs/class': [?, 1024] --> [?, 6]\n",
      "\u001b[32m[0312 23:16:17 @registry.py:90]\u001b[0m   'fastrcnn/outputs/box': [?, 1024] --> [?, 24]\n",
      "\u001b[32m[0312 23:16:17 @registry.py:93]\u001b[0m 'fastrcnn/outputs' output: [?, 6], [?, 6, 4]\n",
      "WARNING:tensorflow:From /media/aman/DRIVE2/Datsets/github/to_upload/Tomato Disease Identifier [Research & Development]/modeling/generalized_rcnn.py:86: The name tf.get_default_graph is deprecated. Please use tf.compat.v1.get_default_graph instead.\n",
      "\n",
      "\u001b[32m[0312 23:16:17 @collection.py:146]\u001b[0m New collections created in tower : tf.GraphKeys.MODEL_VARIABLES of size 5\n",
      "\u001b[32m[0312 23:16:17 @sessinit.py:87]\u001b[0m \u001b[5m\u001b[31mWRN\u001b[0m The following variables are in the checkpoint, but not found in the graph: global_step, learning_rate\n",
      "\u001b[32m[0312 23:16:23 @sessinit.py:114]\u001b[0m Restoring checkpoint from model_weights/model-48000 ...\n",
      "INFO:tensorflow:Restoring parameters from model_weights/model-48000\n"
     ]
    }
   ],
   "source": [
    "# Initializer Predictor\n",
    "predictor = OfflinePredictor(predcfg)"
   ]
  },
  {
   "cell_type": "code",
   "execution_count": 10,
   "metadata": {},
   "outputs": [],
   "source": [
    "# List out all test images\n",
    "input_path = \"test_images\"\n",
    "output_path = 'test_inferences'\n",
    "test_images = os.listdir(input_path)"
   ]
  },
  {
   "cell_type": "code",
   "execution_count": 11,
   "metadata": {},
   "outputs": [
    {
     "name": "stdout",
     "output_type": "stream",
     "text": [
      "\u001b[32m[0312 23:16:32 @functions_predict.py:101]\u001b[0m Inference output for PUB0006537_76781.jpg Successful\n",
      "\u001b[32m[0312 23:16:32 @functions_predict.py:101]\u001b[0m Inference output for 1-54_g7i2.png Successful\n",
      "\u001b[32m[0312 23:16:33 @functions_predict.py:101]\u001b[0m Inference output for 1-7_g7i0.png Successful\n",
      "\u001b[32m[0312 23:16:33 @functions_predict.py:101]\u001b[0m Inference output for 101614330.jpg Successful\n",
      "\u001b[32m[0312 23:16:34 @functions_predict.py:101]\u001b[0m Inference output for 14472406_f1024.webp Successful\n",
      "\u001b[32m[0312 23:16:34 @functions_predict.py:101]\u001b[0m Inference output for 27-500x375.jpg Successful\n",
      "\u001b[32m[0312 23:16:34 @functions_predict.py:101]\u001b[0m Inference output for 300px-Tomate_Blatt_Kalimangel.jpg Successful\n",
      "\u001b[32m[0312 23:16:35 @functions_predict.py:101]\u001b[0m Inference output for 5592c2e0b6df8.image.jpg Successful\n",
      "\u001b[32m[0312 23:16:35 @functions_predict.py:101]\u001b[0m Inference output for 5592c2e0df906.image.jpg Successful\n",
      "\u001b[32m[0312 23:16:35 @functions_predict.py:101]\u001b[0m Inference output for bacterial-specspot-tomato-leaf.jpg Successful\n",
      "\u001b[32m[0312 23:16:36 @functions_predict.py:101]\u001b[0m Inference output for Disease-symptoms-of-early-blight-in-leaves-of-tomato-plants-with-or-without-mycorrhizal_W640.jpg Successful\n",
      "\u001b[32m[0312 23:16:36 @functions_predict.py:101]\u001b[0m Inference output for early-blight-leaf-tomato.jpg Successful\n",
      "\u001b[32m[0312 23:16:36 @functions_predict.py:101]\u001b[0m Inference output for early_blight_tomato_disease.jpg Successful\n",
      "\u001b[32m[0312 23:16:36 @functions_predict.py:101]\u001b[0m Inference output for figure-1.jpg Successful\n",
      "\u001b[32m[0312 23:16:37 @functions_predict.py:101]\u001b[0m Inference output for fotolia_742927_XS.jpg Successful\n",
      "\u001b[32m[0312 23:16:37 @functions_predict.py:101]\u001b[0m Inference output for FS547-2-big.jpg Successful\n",
      "\u001b[32m[0312 23:16:37 @functions_predict.py:101]\u001b[0m Inference output for FS547-4-big.jpg Successful\n",
      "\u001b[32m[0312 23:16:38 @functions_predict.py:101]\u001b[0m Inference output for gray-leaf-spot-tomato.jpg Successful\n",
      "\u001b[32m[0312 23:16:39 @functions_predict.py:101]\u001b[0m Inference output for image1.jpg Successful\n",
      "\u001b[32m[0312 23:16:39 @functions_predict.py:101]\u001b[0m Inference output for images.jpeg Successful\n",
      "\u001b[32m[0312 23:16:40 @functions_predict.py:101]\u001b[0m Inference output for IMG_6433.jpg Successful\n",
      "\u001b[32m[0312 23:16:40 @functions_predict.py:101]\u001b[0m Inference output for K_Johnson_7082.jpeg Successful\n",
      "\u001b[32m[0312 23:16:40 @functions_predict.py:101]\u001b[0m Inference output for late-blight-tomato.webp Successful\n",
      "\u001b[32m[0312 23:16:41 @functions_predict.py:101]\u001b[0m Inference output for leafspot-5aba8283642dca003687f6fa.jpg Successful\n",
      "\u001b[32m[0312 23:16:41 @functions_predict.py:101]\u001b[0m Inference output for MoWGg.jpg Successful\n",
      "\u001b[32m[0312 23:16:42 @functions_predict.py:101]\u001b[0m Inference output for sb_us_t_16_powdery_flickr-Scot-Nelson-pm.jpeg Successful\n",
      "\u001b[32m[0312 23:16:42 @functions_predict.py:101]\u001b[0m Inference output for Septoria leaf spot.jpg Successful\n",
      "\u001b[32m[0312 23:16:42 @functions_predict.py:101]\u001b[0m Inference output for Septoria Leafspot.jpg Successful\n",
      "\u001b[32m[0312 23:16:43 @functions_predict.py:101]\u001b[0m Inference output for septoria-up-close.jpg Successful\n",
      "\u001b[32m[0312 23:16:43 @functions_predict.py:101]\u001b[0m Inference output for Septoria_Leaf_Spot_of_Tomato186.jpg Successful\n",
      "\u001b[32m[0312 23:16:43 @functions_predict.py:101]\u001b[0m Inference output for Septoria_Leaf_Spot_of_Tomato2241.jpg Successful\n",
      "\u001b[32m[0312 23:16:44 @functions_predict.py:101]\u001b[0m Inference output for target-spot-disease-symptoms-on-tomato-leaf-BMKGJH.jpg Successful\n",
      "\u001b[32m[0312 23:16:44 @functions_predict.py:101]\u001b[0m Inference output for Tomato-Leaf-Curl-1600x800.jpg Successful\n",
      "\u001b[32m[0312 23:16:45 @functions_predict.py:101]\u001b[0m Inference output for Tomato-Leaf-Curl.jpg Successful\n",
      "\u001b[32m[0312 23:16:45 @functions_predict.py:101]\u001b[0m Inference output for tomato_plant_disease_septoria_leaf_spot.jpg Successful\n",
      "\u001b[32m[0312 23:16:46 @functions_predict.py:101]\u001b[0m Inference output for tswv-symptoms-on-tomato-foliage-.jpeg Successful\n",
      "\u001b[32m[0312 23:16:46 @functions_predict.py:101]\u001b[0m Inference output for unnamed (1).jpg Successful\n",
      "\u001b[32m[0312 23:16:46 @functions_predict.py:101]\u001b[0m Inference output for unnamed (2).jpg Successful\n",
      "\u001b[32m[0312 23:16:47 @functions_predict.py:101]\u001b[0m Inference output for unnamed.jpg Successful\n",
      "\u001b[32m[0312 23:16:47 @functions_predict.py:101]\u001b[0m Inference output for upper-leaf-mold-tomato.jpg Successful\n"
     ]
    }
   ],
   "source": [
    "# Predicting on each input image\n",
    "\n",
    "for input_file in test_images: #input_file = test_images[0]\n",
    "    do_predict(predictor, input_path, input_file, output_path)"
   ]
  },
  {
   "cell_type": "code",
   "execution_count": null,
   "metadata": {},
   "outputs": [],
   "source": []
  }
 ],
 "metadata": {
  "kernelspec": {
   "display_name": "Python 3",
   "language": "python",
   "name": "python3"
  },
  "language_info": {
   "codemirror_mode": {
    "name": "ipython",
    "version": 3
   },
   "file_extension": ".py",
   "mimetype": "text/x-python",
   "name": "python",
   "nbconvert_exporter": "python",
   "pygments_lexer": "ipython3",
   "version": "3.7.6"
  },
  "varInspector": {
   "cols": {
    "lenName": 16,
    "lenType": 16,
    "lenVar": 40
   },
   "kernels_config": {
    "python": {
     "delete_cmd_postfix": "",
     "delete_cmd_prefix": "del ",
     "library": "var_list.py",
     "varRefreshCmd": "print(var_dic_list())"
    },
    "r": {
     "delete_cmd_postfix": ") ",
     "delete_cmd_prefix": "rm(",
     "library": "var_list.r",
     "varRefreshCmd": "cat(var_dic_list()) "
    }
   },
   "position": {
    "height": "421px",
    "left": "1550px",
    "right": "20px",
    "top": "120px",
    "width": "350px"
   },
   "types_to_exclude": [
    "module",
    "function",
    "builtin_function_or_method",
    "instance",
    "_Feature"
   ],
   "window_display": true
  }
 },
 "nbformat": 4,
 "nbformat_minor": 4
}
