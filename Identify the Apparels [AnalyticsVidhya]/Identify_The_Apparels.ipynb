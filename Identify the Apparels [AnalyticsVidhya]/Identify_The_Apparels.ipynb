{
 "cells": [
  {
   "cell_type": "markdown",
   "metadata": {},
   "source": [
    "## Identify the Apparels"
   ]
  },
  {
   "cell_type": "code",
   "execution_count": null,
   "metadata": {},
   "outputs": [],
   "source": [
    "# Importing libraries\n",
    "import os\n",
    "import cv2\n",
    "import math\n",
    "import tensorflow as tf\n",
    "import numpy as np\n",
    "import pandas as pd\n",
    "from tqdm import tqdm"
   ]
  },
  {
   "cell_type": "code",
   "execution_count": null,
   "metadata": {},
   "outputs": [],
   "source": [
    "# Importing model\n",
    "from model import compute_cost, create_placeholders, forward_propagation, \\\n",
    "initializer_parameters, mini_batches_X, random_mini_batches"
   ]
  },
  {
   "cell_type": "code",
   "execution_count": null,
   "metadata": {},
   "outputs": [],
   "source": [
    "# Loading .csv files\n",
    "train = pd.read_csv('train/train.csv')\n",
    "test = pd.read_csv('test/test.csv')"
   ]
  },
  {
   "cell_type": "code",
   "execution_count": null,
   "metadata": {},
   "outputs": [],
   "source": [
    "X_train = train.iloc[:, 0].values\n",
    "Y_train = train.iloc[:, 1].values\n",
    "X_test = test.iloc[:, 0].values\n",
    "\n",
    "del test, train"
   ]
  },
  {
   "cell_type": "code",
   "execution_count": null,
   "metadata": {},
   "outputs": [],
   "source": [
    "# Converting output to OneHot Matrix\n",
    "from sklearn.preprocessing import OneHotEncoder\n",
    "onehot = OneHotEncoder()\n",
    "Y_train = onehot.fit_transform(Y_train[:, np.newaxis]).toarray()"
   ]
  },
  {
   "cell_type": "code",
   "execution_count": null,
   "metadata": {},
   "outputs": [],
   "source": [
    "# Loading image files (28, 28, 4)\n",
    "X_train_ = []\n",
    "X_test_ = []\n",
    "\n",
    "for i in tqdm(X_train):\n",
    "    arr = cv2.imread(os.path.join('train', 'train', '%d.png' %(i)), -1)\n",
    "    X_train_.append(arr)\n",
    "X_train = np.asarray(X_train_, dtype = np.float32)\n",
    "\n",
    "for i in tqdm(X_test):\n",
    "    arr = cv2.imread(os.path.join('test', 'test', '%d.png' %(i)), -1)\n",
    "    X_test_.append(arr)\n",
    "X_test = np.asarray(X_test_, dtype = np.float32)\n",
    "\n",
    "del i, X_test_, X_train_, arr"
   ]
  },
  {
   "cell_type": "code",
   "execution_count": null,
   "metadata": {},
   "outputs": [],
   "source": [
    "# Saving numpy files\n",
    "np.save(os.path.join('npy_files', \"X_train.npy\"), X_train)\n",
    "np.save(os.path.join('npy_files', \"Y_train.npy\"), Y_train)\n",
    "np.save(os.path.join('npy_files', \"X_test.npy\"), X_test)"
   ]
  },
  {
   "cell_type": "code",
   "execution_count": null,
   "metadata": {},
   "outputs": [],
   "source": [
    "# Tensorflow model\n",
    "m, n_H, n_W, n_C = X_train.shape\n",
    "n_Y = Y_train.shape[1]\n",
    "costs = []"
   ]
  },
  {
   "cell_type": "code",
   "execution_count": null,
   "metadata": {},
   "outputs": [],
   "source": [
    "# #Resetting graph\n",
    "tf.reset_default_graph()"
   ]
  },
  {
   "cell_type": "code",
   "execution_count": null,
   "metadata": {},
   "outputs": [],
   "source": [
    "# Creating model\n",
    "X, Y = create_placeholders(n_H, n_W, n_C, n_Y)\n",
    "parameters = initializer_parameters()\n",
    "Z = forward_propagation(X, parameters, reuse = None)\n",
    "cost = compute_cost(Z, Y)\n",
    "optimizer = tf.train.AdamOptimizer(learning_rate = 0.00025).minimize(cost)"
   ]
  },
  {
   "cell_type": "code",
   "execution_count": null,
   "metadata": {},
   "outputs": [],
   "source": [
    "# Initializing session\n",
    "session = tf.Session()\n",
    "session.run(tf.global_variables_initializer())"
   ]
  },
  {
   "cell_type": "code",
   "execution_count": null,
   "metadata": {},
   "outputs": [],
   "source": [
    "# Training\n",
    "for i in range(100):\n",
    "    minibatch_cost = 0.\n",
    "    num_batches = int(m / 2048)\n",
    "    minibatches = random_mini_batches(X_train, Y_train, mini_batch_size= 2048)\n",
    "    for minibatch in minibatches:\n",
    "        (minibatch_X, minibatch_Y) = minibatch\n",
    "        _, temp_cost = session.run([optimizer, cost], feed_dict={X:minibatch_X, Y:minibatch_Y})\n",
    "        minibatch_cost += temp_cost\n",
    "    print(\"Cost after %d epochs = %f\" %(i+1, minibatch_cost))\n",
    "    if i%5 == 0:\n",
    "        costs.append(minibatch_cost)"
   ]
  },
  {
   "cell_type": "code",
   "execution_count": null,
   "metadata": {},
   "outputs": [],
   "source": [
    "# Getting parameters for the model\n",
    "parameters = session.run(parameters)"
   ]
  },
  {
   "cell_type": "code",
   "execution_count": null,
   "metadata": {},
   "outputs": [],
   "source": [
    "# Clearing memory\n",
    "del X_test_, X_train_, arr, costs, count, i, m, minibatch, minibatch_X, \\\n",
    "minibatch_Y, minibatch_cost, minibatches, num_batches, temp_cost"
   ]
  },
  {
   "cell_type": "code",
   "execution_count": null,
   "metadata": {},
   "outputs": [],
   "source": [
    "# Predictions on test set\n",
    "Y_test_pred = session.run(forward_propagation(X_test, parameters, reuse = True))\n",
    "Y_test_pred = session.run(tf.nn.softmax(Y_test_pred))\n",
    "Y_test_pred = session.run(tf.contrib.seq2seq.hardmax(Y_test_pred))\n",
    "Y_test_pred = np.array([np.where(r == 1)[0][0] for r in Y_test_pred])\n",
    "Y_test_pred = Y_test_pred.reshape((Y_test_pred.shape[0], 1))"
   ]
  },
  {
   "cell_type": "code",
   "execution_count": null,
   "metadata": {},
   "outputs": [],
   "source": [
    "output = {'id': np.arange(60001, 70001, 1),\n",
    "          'label': Y_test_pred.reshape(Y_test_pred.shape[0])\n",
    "          }"
   ]
  },
  {
   "cell_type": "code",
   "execution_count": null,
   "metadata": {},
   "outputs": [],
   "source": [
    "# Saving outputs\n",
    "df = pd.DataFrame(output, columns = ['id', 'label'])\n",
    "df.to_csv(r'Output.csv', index = None, header = True)"
   ]
  }
 ],
 "metadata": {
  "kernelspec": {
   "display_name": "Python 3",
   "language": "python",
   "name": "python3"
  },
  "language_info": {
   "codemirror_mode": {
    "name": "ipython",
    "version": 3
   },
   "file_extension": ".py",
   "mimetype": "text/x-python",
   "name": "python",
   "nbconvert_exporter": "python",
   "pygments_lexer": "ipython3",
   "version": "3.7.6"
  },
  "varInspector": {
   "cols": {
    "lenName": 16,
    "lenType": 16,
    "lenVar": 40
   },
   "kernels_config": {
    "python": {
     "delete_cmd_postfix": "",
     "delete_cmd_prefix": "del ",
     "library": "var_list.py",
     "varRefreshCmd": "print(var_dic_list())"
    },
    "r": {
     "delete_cmd_postfix": ") ",
     "delete_cmd_prefix": "rm(",
     "library": "var_list.r",
     "varRefreshCmd": "cat(var_dic_list()) "
    }
   },
   "position": {
    "height": "417px",
    "left": "1550px",
    "right": "20px",
    "top": "120px",
    "width": "350px"
   },
   "types_to_exclude": [
    "module",
    "function",
    "builtin_function_or_method",
    "instance",
    "_Feature"
   ],
   "window_display": true
  }
 },
 "nbformat": 4,
 "nbformat_minor": 4
}
